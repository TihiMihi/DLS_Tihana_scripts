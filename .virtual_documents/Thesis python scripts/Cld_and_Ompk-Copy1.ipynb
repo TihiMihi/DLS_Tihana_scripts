import matplotlib.pyplot as plt
import pandas as pd
import numpy as np
from matplotlib import cm
from mpl_toolkits import mplot3d
import os
import matplotlib.ticker as mticker
import matplotlib
%matplotlib widget
import colorcet as cc
ac_labels = [
    "crm20_lim20","crm10_lim20","cr0_lim20","crp10_lim20","crp20_lim20",
    "crm20_lim10","crm10_lim10","cr0_lim10","crp10_lim10","crp20_lim10",
    "crm20_li0",  "crm10_li0",  "cr0_li0",  "crp10_li0",  "crp20_li0",
    "crm20_lip10","crm10_lip10","cr0_lip10","crp10_lip10","crp20_lip10",
    "crm20_lip20","crm10_lip20","cr0_lip20","crp10_lip20","crp20_lip20",
    "crm20_lip30","crm10_lip30","cr0_lip30","crp10_lip30","crp20_lip30"
    ]

parent_dir = "/dls/i23/data/2024/cm37273-1/processing/tihana/cld"
#parent_dir = input("Path to crystal directory: ")
crystal = (parent_dir.split("/"))[-1]
print(crystal)

# Make directory for plots
if not os.path.exists(os.path.join(parent_dir, 'plots')):
    os.mkdir(os.path.join(parent_dir, 'plots'))

dataset_path = "/dls/i23/data/2024/cm37273-1/processing/tihana/cld/anacor/merged_data"
#dataset_path = input("Path to dataset in anacor: ")
dataset = dataset_path.split("/")
dataset = dataset[-1]

# Put the path to your data files here
file_paths = [
    f'/dls/i23/data/2024/cm37273-1/processing/tihana/cld/csv_files/{dataset}_I_and_r_merge.csv'#,
    #f'/dls/i23/data/2024/cm37273-1/processing/tihana/cld/csv_files/{dataset}_r_merge.csv'
]
file_paths = [f'{os.path.join(parent_dir, "csv_files", f"{dataset}_I_and_r_merge.csv")}']

# Read and concatenate all datasets, adding a 'set_id' to distinguish them
all_data = []
methods = [':acsh:', ':ac:']

for i, file_path in enumerate(file_paths, start=1):
    df = pd.read_csv(file_path, names=['ac_id', 'method', 'I_value', 'rmerge_value'], sep=('  '))
    all_data.append(df)

print(type(df))
df = pd.DataFrame(df)
ac = df[df['method']==':ac:']
ac = ac.set_index(['ac_id']).reindex(ac_labels).reset_index()
acsh = df[df['method']==':acsh:']
acsh = acsh.set_index(['ac_id']).reindex(ac_labels).reset_index()

result1 = ac['I_value']
result2 = ac['rmerge_value']
indexes = ac['ac_id'].to_list()
result3 = acsh['I_value']
result4 = acsh['rmerge_value']

# Create a new DataFrame with the results
results_ac = pd.DataFrame({'Intensity/sigma': result1, 'Overall R-merge': result2})
results_acsh = pd.DataFrame({'Intensity/sigma': result3, 'Overall R-merge': result4})

# Create an array with the length of the DataFrame
#y = np.arange(len(results_df))
y = ac['ac_id'].to_list()

ylabels = np.array([-20, -10, 0, 10, 20, 30])
xlabels = np.array([-20, -10, 0, 10, 20])
X, Y = np.meshgrid(xlabels, ylabels)

isig_data = results_ac['Intensity/sigma']
isig = np.reshape(isig_data.to_list(), (6,5))
print(isig)
indexes = np.reshape(indexes, (6,5))
print(indexes)

rmerge_data = results_ac['Overall R-merge']
rmerge = np.reshape(rmerge_data.to_list(), (6,5))


# 3D CONTOUR PLOT
"""
fig = plt.figure()
fig.set_figheight(8)
fig.set_figwidth(12)
ax = plt.axes(projection='3d')
#ax.contour3D(X, Y, isig, 50, cmap='jet')
surf_I = ax.plot_surface(X, Y, isig, cmap='viridis')
ax.set_ylabel('Liquor variation (+/-) %')
ax.set_xlabel('Crystal variation (+/-) %')
ax.set_zlabel('I / σ')
plt.title(f'Cld merged data: I/σ')
fig.colorbar(surf_I, shrink=0.5, aspect=8)
#fig.colorbar(plt.cm.ScalarMappable(cmap = 'jet'), ax = ax)
plt.savefig(f"{parent_dir}/plots/{dataset}_I_3D_contour.png")
plt.savefig('/home/icf19162/CP5-Thesis/plots/exp0/cld_merged_Isig.png', dpi=300)
plt.show()
"""
fig, ax = plt.subplots(1,2, figsize=(6.5,3))

m = ax[0].pcolor(X,Y, isig, cmap= 'cet_CET_L4')
plt.colorbar(m, label="Intensity / $\sigma$", location='left')
ax[0].yaxis.set_label_position('right')
ax[0].yaxis.set_ticks_position('right')

m = ax[1].pcolor(X,Y,rmerge, cmap='cet_CET_L6_r')
plt.colorbar(m, label="Overall $R$-Merge")
for axis in [ax[0]]:
    axis.set_xlabel("Crystal Variation ($\pm$) / %")
    #axis.set_ylabel("Liquor Variation ($\pm$) / %")
ax[1].set_xlabel("Crystal Variation ($\pm$) / %")
fig.tight_layout()
plt.subplots_adjust(wspace=0.5)
ax[0].set_ylabel("Liquor Variation ($\pm$) / %", labelpad=8)
ax[0].xaxis.set_minor_locator(mticker.AutoMinorLocator(n=2))
ax[1].xaxis.set_minor_locator(mticker.AutoMinorLocator(n=2))
plt.savefig('/home/icf19162/CP5-Thesis/plots/exp0/cld_merged_stats.pdf')

fig = plt.figure()
fig.set_figheight(8)
fig.set_figwidth(12)
ax = plt.axes(projection='3d')
surf_r = ax.plot_surface(X, Y, rmerge, cmap='viridis')
#ax.contour3D(X, Y, rmerge, 50, cmap='jet')
ax.set_ylabel('Liquor variation (+/-) %')
ax.set_xlabel('Crystal variation (+/-) %')
#ax.set_zlabel('R-m')
fig.colorbar(surf_r, shrink=0.5, aspect=8)
plt.title(f'Cld merged data: Overall R-merge')
plt.savefig(f"{parent_dir}/plots/{dataset}_rm_3D_contour.png")
plt.show()


# 3D BAR PLOT

xpos = np.arange(xlabels.shape[0])
ypos = np.arange(ylabels.shape[0])
xposM, yposM = np.meshgrid(xpos, ypos, copy=False)

dx=0.5
dy=0.5

# I / SIGMA

fig = plt.figure()
fig.set_figheight(8)
fig.set_figwidth(12)
ax1=fig.add_subplot(111, projection='3d')
ax1.set_ylabel('Liquor variation (+/-) %', labelpad=10)
ax1.set_xlabel('Crystal variation (+/-) %', labelpad=10)
ax1.set_zlabel('I/sig')

zpos_isig = isig.ravel()
dz=zpos_isig
print(isig)

ax1.xaxis.set_ticks(xpos + dx/2.)
ax1.xaxis.set_ticklabels(xlabels)

ax1.yaxis.set_ticks(ypos + dy/2.)
ax1.yaxis.set_ticklabels(ylabels)

norm_data = (np.array(isig_data) - np.min(isig_data)) / (np.max(isig_data) - np.min(isig_data))
norm = matplotlib.colors.Normalize(vmin=isig_data.min(), vmax=isig_data.max())
colors = cm.viridis(norm_data)
bar = ax1.bar3d(xposM.ravel(), yposM.ravel(), zpos_isig*0, dx, dy, dz, color=colors, cmap=plt.cm.viridis, norm=norm)
fig.colorbar(bar, ax=ax1, shrink=0.5, aspect=8)
plt.title(f'Cld merged data: I/σ')
plt.savefig(f"{parent_dir}/plots/{dataset}_I_3D_bar.png")
plt.show()

# R-MERGE

fig = plt.figure()
fig.set_figheight(8)
fig.set_figwidth(12)
ax1=fig.add_subplot(111, projection='3d')
ax1.set_ylabel('Liquor variation (+/-) %', labelpad=10)
ax1.set_xlabel('Crystal variation (+/-) %', labelpad=10)
ax1.set_zlabel('R-merge')

zpos_rm = rmerge.ravel()
dz=zpos_rm
print(rmerge)

ax1.xaxis.set_ticks(xpos + dx/2.)
ax1.xaxis.set_ticklabels(xlabels)

ax1.yaxis.set_ticks(ypos + dy/2.)
ax1.yaxis.set_ticklabels(ylabels)

norm_data = (np.array(rmerge_data) - np.min(rmerge_data)) / (np.max(rmerge_data) - np.min(rmerge_data))
norm = matplotlib.colors.Normalize(vmin=rmerge_data.min(), vmax=rmerge_data.max())
colors = cm.viridis(norm_data)
bar = ax1.bar3d(xposM.ravel(), yposM.ravel(), zpos_isig*0, dx, dy, dz, color=colors, cmap=plt.cm.viridis, norm=norm)
fig.colorbar(bar, ax=ax1, shrink=0.5, aspect=8)
plt.title(f'Cld merged data: R-factors')
plt.savefig(f"{parent_dir}/plots/{dataset}_rm_3D_bar.png")
plt.savefig('/home/icf19162/CP5-Thesis/plots/exp0/cld_merged_rmerge.png', dpi=300)
plt.show()


import pdb
import numpy as np

import json
import os
import re
import csv

dataset_path = "/dls/i23/data/2024/cm37273-1/processing/tihana/ompk/anacor/merged"
csv_path = "/dls/i23/data/2024/cm37273-1/processing/tihana/ompk/csv_files"
dataset = dataset_path.split("/")
dataset = dataset[-1]

data_list = []
for dir_path in os.listdir(dataset_path):
    if os.path.isdir(os.path.join(dataset_path, dir_path)) is True:
        data_list.append(dir_path)

print(data_list)
dataset_list = sorted(data_list)

I_list = []
rmerge_list = []
I_and_rmerge = []

for dir in (dataset_list):
    for target in ['ac','acsh']:
        
        i = dataset_list.index(dir)

        target_path = os.path.join(dataset_path, dir, f'{target}_log.log')
        
        if os.path.exists(target_path):
            print(f'{dir} {target} log  exists')
            with open(target_path, 'r') as file:
                lines = file.readlines()
        else:
            print(f'{dir} {target} log does not exist')
            break

        # Find the start and end indices of the table
        start_index = None
        end_index = None
        for i, line in enumerate(lines):
            if '-------------Summary of merging statistics--------------' in line:
                start_index = i + 2#1
                
            elif 'Writing html report to ' in line:
                end_index = i - 1

        for line in lines[start_index:end_index]:
            # Remove leading/trailing whitespaces and split the line into columns
            columns = line.strip().split()

            # Convert the columns to floats
            row_data = [col for col in columns]
            if row_data[0] == 'I/sigma':
                I_list.append(f'\n{dir} :{target}: {float(row_data[1])}')
                I_and_rmerge.append(f'\n{dir} :{target}: {float(row_data[1])} ')
            if row_data[0] == 'Rmerge(I)':
                rmerge_list.append(f'\n{dir} :{target}: {float(row_data[1])}')
                I_and_rmerge.append(f'{float(row_data[1])}')

        #print(f'{dir}, {target}, {I_list}, {rmerge_list}')

        dataset_filename = f'{csv_path}/{dataset}_I_over_sig.csv'#.format(target)
        with open(dataset_filename, 'w') as dataset_file:
            writer = csv.writer(dataset_file, delimiter=' ', escapechar=' ', quoting=csv.QUOTE_NONE)
            writer.writerow(I_list)
        dataset_file.close()

        dataset_filename = f'{csv_path}/{dataset}_r_merge.csv'#.format(target)
        with open(dataset_filename, 'w') as dataset_file:
            writer = csv.writer(dataset_file, delimiter=' ', escapechar=' ', quoting=csv.QUOTE_NONE)
            writer.writerow(rmerge_list)
        dataset_file.close()

        dataset_filename = f'{csv_path}/{dataset}_I_and_r_merge.csv'#.format(target)
        with open(dataset_filename, 'w') as dataset_file:
            writer = csv.writer(dataset_file, delimiter=' ', escapechar=' ', quoting=csv.QUOTE_NONE)
            writer.writerow(I_and_rmerge)
        dataset_file.close()


import matplotlib.pyplot as plt
import pandas as pd
import numpy as np
from matplotlib import cm
from mpl_toolkits import mplot3d
import os
import matplotlib

ac_labels = [
    "crm20_lim20","crm10_lim20","cr0_lim20","crp10_lim20","crp20_lim20",
    "crm20_lim10","crm10_lim10","cr0_lim10","crp10_lim10","crp20_lim10",
    "crm20_li0",  "crm10_li0",  "cr0_li0",  "crp10_li0",  "crp20_li0",
    "crm20_lip10","crm10_lip10","cr0_lip10","crp10_lip10","crp20_lip10",
    "crm20_lip20","crm10_lip20","cr0_lip20","crp10_lip20","crp20_lip20",
    "crm20_lip30","crm10_lip30","cr0_lip30","crp10_lip30","crp20_lip30"
    ]

parent_dir = "/dls/i23/data/2024/cm37273-1/processing/tihana/ompk"
crystal = (parent_dir.split("/"))[-1]
print(crystal)

# Make directory for plots
if not os.path.exists(os.path.join(parent_dir, 'plots')):
    os.mkdir(os.path.join(parent_dir, 'plots'))

dataset_path = "/dls/i23/data/2024/cm37273-1/processing/tihana/ompk/anacor/merged"
dataset = dataset_path.split("/")
dataset = dataset[-1]
dataset = 'merged'

# Put the path to your data files here
file_paths = [
    f'/dls/i23/data/2024/cm37273-1/processing/tihana/ompk/csv_files/{dataset}_I_and_r_merge.csv'#,
    #f'/dls/i23/data/2024/cm37273-1/processing/tihana/cld/csv_files/{dataset}_r_merge.csv'
]
file_paths = [f'{os.path.join(parent_dir, "csv_files", f"{dataset}_I_and_r_merge.csv")}']

# Read and concatenate all datasets, adding a 'set_id' to distinguish them
all_data = []
methods = [':acsh:', ':ac:']

for i, file_path in enumerate(file_paths, start=1):
    df = pd.read_csv(file_path, names=['ac_id', 'method', 'I_value', 'rmerge_value'], sep=('  '))
    all_data.append(df)

print(type(df))
df = pd.DataFrame(df)
ac = df[df['method']==':ac:']
ac = ac.set_index(['ac_id']).reindex(ac_labels).reset_index()
acsh = df[df['method']==':acsh:']
acsh = acsh.set_index(['ac_id']).reindex(ac_labels).reset_index()

result1 = ac['I_value']
result2 = ac['rmerge_value']
indexes = ac['ac_id'].to_list()
result3 = acsh['I_value']
result4 = acsh['rmerge_value']

# Create a new DataFrame with the results
results_ac = pd.DataFrame({'Intensity/sigma': result1, 'Overall R-merge': result2})
results_acsh = pd.DataFrame({'Intensity/sigma': result3, 'Overall R-merge': result4})

# Create an array with the length of the DataFrame
#y = np.arange(len(results_df))
y = ac['ac_id'].to_list()

ylabels = np.array([-20, -10, 0, 10, 20, 30])
xlabels = np.array([-20, -10, 0, 10, 20])
X, Y = np.meshgrid(xlabels, ylabels)

isig_data = results_ac['Intensity/sigma']
isig = np.reshape(isig_data.to_list(), (6,5))
print(isig)
indexes = np.reshape(indexes, (6,5))
print(indexes)

rmerge_data = results_ac['Overall R-merge']
rmerge = np.reshape(rmerge_data.to_list(), (6,5))

# HEAT MAP
fig, ax = plt.subplots(1,2, figsize=(6.5,3))

m = ax[0].pcolor(X,Y, isig, cmap= 'cet_CET_L4')
plt.colorbar(m, label="Intensity / $\sigma$", location='left')
ax[0].yaxis.set_label_position('right')
ax[0].yaxis.set_ticks_position('right')

m = ax[1].pcolor(X,Y,rmerge, cmap='cet_CET_L6_r')
plt.colorbar(m, label="Overall $R$-Merge")
for axis in [ax[0]]:
    axis.set_xlabel("Crystal Variation ($\pm$) / %")
    #axis.set_ylabel("Liquor Variation ($\pm$) / %")
ax[1].set_xlabel("Crystal Variation ($\pm$) / %")
fig.tight_layout()
plt.subplots_adjust(wspace=0.5)
ax[0].set_ylabel("Liquor Variation ($\pm$) / %", labelpad=8)
ax[0].xaxis.set_minor_locator(mticker.AutoMinorLocator(n=2))
ax[1].xaxis.set_minor_locator(mticker.AutoMinorLocator(n=2))
plt.savefig('/home/icf19162/CP5-Thesis/plots/exp0/ompk_merged_stats.pdf')
plt.show()

# 3D CONTOUR PLOT

fig = plt.figure()
fig.set_figheight(8)
fig.set_figwidth(12)
ax = plt.axes(projection='3d')
#ax.contour3D(X, Y, isig, 50, cmap='jet')
surf_I = ax.plot_surface(X, Y, isig, cmap='viridis')
ax.set_ylabel('Liquor variation (+/-) %')
ax.set_xlabel('Crystal variation (+/-) %')
ax.set_zlabel('I / σ')
plt.title(f'{crystal} {dataset} data: I/σ')
fig.colorbar(surf_I, shrink=0.5, aspect=8)
#fig.colorbar(plt.cm.ScalarMappable(cmap = 'jet'), ax = ax)
plt.savefig(f"{parent_dir}/plots/{dataset}_I_3D_contour.png")
plt.savefig('/home/icf19162/CP5-Thesis/plots/exp0/ompk_merged_Isig.png', dpi=300)
plt.show()


fig = plt.figure()
fig.set_figheight(8)
fig.set_figwidth(12)
ax = plt.axes(projection='3d')
surf_r = ax.plot_surface(X, Y, rmerge, cmap='viridis')
#ax.contour3D(X, Y, rmerge, 50, cmap='jet')
ax.set_ylabel('Liquor variation (+/-) %')
ax.set_xlabel('Crystal variation (+/-) %')
#ax.set_zlabel('R-m')
fig.colorbar(surf_r, shrink=0.5, aspect=8)
plt.title(f'{crystal} {dataset} data: R-factors')
plt.savefig(f"{parent_dir}/plots/{dataset}_rm_3D_contour.png")
plt.show()


# 3D BAR PLOT

xpos = np.arange(xlabels.shape[0])
ypos = np.arange(ylabels.shape[0])
xposM, yposM = np.meshgrid(xpos, ypos, copy=False)

dx=0.5
dy=0.5

# I / SIGMA

fig = plt.figure()
fig.set_figheight(8)
fig.set_figwidth(12)
ax1=fig.add_subplot(111, projection='3d')
ax1.set_ylabel('Liquor variation (+/-) %', labelpad=10)
ax1.set_xlabel('Crystal variation (+/-) %', labelpad=10)
ax1.set_zlabel('I/sig')

zpos_isig = isig.ravel()
dz=zpos_isig
print(isig)

ax1.xaxis.set_ticks(xpos + dx/2.)
ax1.xaxis.set_ticklabels(xlabels)

ax1.yaxis.set_ticks(ypos + dy/2.)
ax1.yaxis.set_ticklabels(ylabels)

norm_data = (np.array(isig_data) - np.min(isig_data)) / (np.max(isig_data) - np.min(isig_data))
norm = matplotlib.colors.Normalize(vmin=isig_data.min(), vmax=isig_data.max())
colors = cm.viridis(norm_data)
bar = ax1.bar3d(xposM.ravel(), yposM.ravel(), zpos_isig*0, dx, dy, dz, color=colors, cmap=plt.cm.viridis, norm=norm)
fig.colorbar(bar, ax=ax1, shrink=0.5, aspect=8)
plt.title(f'{crystal} {dataset} data: I/σ')
plt.savefig(f"{parent_dir}/plots/{dataset}_I_3D_bar.png")
plt.show()

# R-MERGE

fig = plt.figure()
fig.set_figheight(8)
fig.set_figwidth(12)
ax1=fig.add_subplot(111, projection='3d')
ax1.set_ylabel('Liquor variation (+/-) %', labelpad=10)
ax1.set_xlabel('Crystal variation (+/-) %', labelpad=10)
ax1.set_zlabel('R-merge')

zpos_rm = rmerge.ravel()
dz=zpos_rm
print(rmerge)

ax1.xaxis.set_ticks(xpos + dx/2.)
ax1.xaxis.set_ticklabels(xlabels)

ax1.yaxis.set_ticks(ypos + dy/2.)
ax1.yaxis.set_ticklabels(ylabels)

norm_data = (np.array(rmerge_data) - np.min(rmerge_data)) / (np.max(rmerge_data) - np.min(rmerge_data))
norm = matplotlib.colors.Normalize(vmin=rmerge_data.min(), vmax=rmerge_data.max())
colors = cm.viridis(norm_data)
bar = ax1.bar3d(xposM.ravel(), yposM.ravel(), zpos_isig*0, dx, dy, dz, color=colors, cmap=plt.cm.viridis, norm=norm)
fig.colorbar(bar, ax=ax1, shrink=0.5, aspect=8)
plt.title(f'{crystal} {dataset} data : R-factors')
plt.savefig(f"{parent_dir}/plots/{dataset}_rm_3D_bar.png")
plt.savefig('/home/icf19162/CP5-Thesis/plots/exp0/ompk_merged_rmerge.png', dpi=300)
plt.show()



