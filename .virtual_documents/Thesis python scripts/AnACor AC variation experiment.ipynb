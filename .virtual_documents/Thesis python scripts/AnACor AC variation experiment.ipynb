import os
import sys
import json


parent_dir = str(input('Directory of dataset:'))
os.system("module load global/cluster-quiet")

dataset = str(input('Dataset name in anacor: '))
dataset_path = os.path.join(parent_dir, dataset)
dataset = dataset_path.split("/")
dataset = dataset[-1]

lo_ac = float(input('Loop fixed absorption coefficient: '))
cr_ac = float(input('Crystal absorption coefficient reference: '))
li_ac = float(input('Liquor absorption coefficient reference: '))

run_all = str(input('Run anacor.mp_lite for all pathways? (y or yes): '))

if not os.path.exists(dataset_path):
    os.mkdir(dataset_path)
    print(f"Directory {dataset} in /{parent_dir}/ successfully created.")
else:
    pass

refl_expt = f"{input('Pathway to refl/expt files (excluding .refl or .expt format): ')}"
model_storepath = f"{input('Model storepath (including .npy): ')}"
anom = str(input('Anomalous: "true" / "false": '))
if anom != 'true' or anom != 'false':
    print('Anomalous processing unclear. Error')
    ValueError


cr_list = [
    0.8 * cr_ac,
    0.9 * cr_ac,
    cr_ac,
    1.1 * cr_ac,
    1.2 * cr_ac,
]

li_list = [
    0.8 * li_ac,
    0.9 * li_ac,
    li_ac,
    1.1 * li_ac,
    1.2 * li_ac,
    1.3 * li_ac
]

ac_values = []
for c in cr_list:
    for l in li_list:
        ac_values += [(c, l)]

ac_labels = [
    "crm20_lim20",
    "crm20_lim10",
    "crm20_li0",
    "crm20_lip10",
    "crm20_lip20",
    "crm20_lip30",

    "crm10_lim20",
    "crm10_lim10",
    "crm10_li0",
    "crm10_lip10",
    "crm10_lip20",
    "crm10_lip30",

    "cr0_lim20",
    "cr0_lim10",
    "cr0_li0",
    "cr0_lip10",
    "cr0_lip20",
    "cr0_lip30",

    "crp10_lim20",
    "crp10_lim10",
    "crp10_li0",
    "crp10_lip10",
    "crp10_lip20",
    "crp10_lip30",
    
    "crp20_lim20",
    "crp20_lim10",
    "crp20_li0",
    "crp20_lip10",
    "crp20_lip20",
    "crp20_lip30"
    ]


for dir in ac_labels:

    dir_path = os.path.join(dataset_path, dir)

    if not os.path.exists(dir_path):
        os.mkdir(dir_path)
        print(f"Directory {dir} successfully created.")
    else:
        print(f"Directory {dir} already exists.")
        pass
    
    #os.chdir(dir_path)
    mp_file = open(f"{dir_path}/default_mpprocess_input.yaml", "w+")
    mp_file.writelines(
        [
            f"store_dir: {dir_path}\n",
            f"dataset: {dataset}_{dir}\n",
            f"liac: {ac_values[ac_labels.index(dir)][1]}\n",
            f"loac: {lo_ac}\n",
            f"crac: {ac_values[ac_labels.index(dir)][0]}\n",
            "buac: 0\n",
            "num_cores: 20\n",
            "hour: 6\n",
            "minute: 10\n",
            "second: 10\n",
            "sampling_ratio: 0.1\n",
            "dials_dependancy: module load dials/latest\n",
            "hpc_dependancies: module load global/cluster\n",
            "offset: 0\n",
            f"refl_path: {refl_expt}.refl\n",
            f"expt_path: {refl_expt}.expt\n",
            f"model_storepath: {model_storepath}\n",
            "post_process: true\n",
            "full_reflection: 0\n",
            "with_scaling: true\n",
            f"anomalous: {anom}\n",
            "mtz2sca_dependancy: module load ccp4\n",
        ]
    )
    mp_file.close
    
    if run_all == 'y' or run_all == 'yes':
        os.system("source /dls/science/groups/i23/yishun/dials_317/dials & anacor.mp_lite")
