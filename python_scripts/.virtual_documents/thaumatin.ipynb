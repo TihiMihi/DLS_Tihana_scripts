


%matplotlib widget 


import pdb
import numpy as np

import json
import os
import re
import csv

anacor_path = '/dls/i23/data/2024/cm37273-1/processing/tihana/thaum_1/anacor'
csv_path    = '/dls/i23/data/2024/cm37273-1/processing/tihana/thaum_1/csv_files'
dials_path  = '/dls/science/groups/i23/tihana/just_dials/thaum_1'

data_list = []
for dataset_path in os.listdir(anacor_path):
    if os.path.isdir(os.path.join(anacor_path, dataset_path)) is True and dataset_path != '3p0_old':
        data_list.append(dataset_path)
dataset = dataset_path.split("/")
dataset = dataset[-1]
dataset_list = sorted(data_list)
print(dataset_list)

I_and_rmerge = []

for dir in (dataset_list):
    
    for target in ['ac','acsh', 'sh']:
        
        i = dataset_list.index(dir)
        if target == 'ac' or target == 'acsh':
            target_path = os.path.join(anacor_path, dir, f'{dir}_save_data','ResultData','dials_output',f'{dir}_{target}_log.log')
        elif target == 'sh':
            target_path = os.path.join(dials_path, dir, 'LogFiles','AUTOMATIC_DEFAULT_SCALE.log')
        
        if os.path.exists(target_path):
            print(f'{dir} {target} log  exists')
            with open(target_path, 'r') as file:
                lines = file.readlines()
        else:
            print(f'{dir} {target} log does not exist')
            break

        # Find the start and end indices of the table
        start_index = None
        end_index = None
        for i, line in enumerate(lines):
            if '-------------Summary of merging statistics--------------' in line:
                start_index = i + 2#1
                
            elif 'Writing html report to ' in line:
                end_index = i - 1

        for line in lines[start_index:end_index]:
            # Remove leading/trailing whitespaces and split the line into columns
            columns = line.strip().split()

            # Convert the columns to floats
            row_data = [col for col in columns]
            if row_data[0] == 'I/sigma':
                #I_list.append(f'\n{dir} :{target}: {float(row_data[1])}')
                I_and_rmerge.append(f'\n{dir.replace("p",".")} :{target}: {float(row_data[1])} ')
            if row_data[0] == 'Rmerge(I)':
                #rmerge_list.append(f'\n{dir} :{target}: {float(row_data[1])}')
                I_and_rmerge.append(f'{float(row_data[1])}')

        #print(f'{dir}, {target}, {I_list}, {rmerge_list}')
        #table_data.append(I_list)

dataset_filename = f'{csv_path}/thaum_1_I_and_r_merge.csv'#.format(target)
with open(dataset_filename, 'w') as dataset_file:
    writer = csv.writer(dataset_file, delimiter=' ', escapechar=' ', quoting=csv.QUOTE_NONE)
    writer.writerow(I_and_rmerge)
    


import matplotlib.ticker as mticker
import colorcet as cc


def bar_plot(ax, data, colors=[cc.glasbey[1], cc.glasbey[0], cc.glasbey[2]], total_width=0.8, single_width=1, legend=True):
    """Draws a bar plot with multiple bars per data point.

    Parameters
    ----------
    ax : matplotlib.pyplot.axis
        The axis we want to draw our plot on.

    data: dictionary
        A dictionary containing the data we want to plot. Keys are the names of the
        data, the items is a list of the values.

        Example:
        data = {
            "x":[1,2,3],
            "y":[1,2,3],
            "z":[1,2,3],
        }

    colors : array-like, optional
        A list of colors which are used for the bars. If None, the colors
        will be the standard matplotlib color cyle. (default: None)

    total_width : float, optional, default: 0.8
        The width of a bar group. 0.8 means that 80% of the x-axis is covered
        by bars and 20% will be spaces between the bars.

    single_width: float, optional, default: 1
        The relative width of a single bar within a group. 1 means the bars
        will touch eachother within a group, values less than 1 will make
        these bars thinner.

    legend: bool, optional, default: True
        If this is set to true, a legend will be added to the axis.
    """

    # Check if colors where provided, otherwhise use the default color cycle
    if colors is None:
        colors = plt.rcParams['axes.prop_cycle'].by_key()['color']

    # Number of bars per group
    n_bars = len(data)

    # The width of a single bar
    bar_width = total_width / n_bars

    # List containing handles for the drawn bars, used for the legend
    bars = []

    # Iterate over all data
    for i, (name, values) in enumerate(data.items()):
        # The offset in x direction of that bar
        x_offset = (i - n_bars / 2) * bar_width + bar_width / 2

        # Draw a bar for every value of that type
        for x, y in enumerate(values):
            bar = ax.bar(x + x_offset, y, width=bar_width * single_width, color=colors[i % len(colors)])

        # Add a handle to the last drawn bar, which we'll need for the legend
        bars.append(bar[0])

    # Draw legend if we need
    if legend:
        ax.legend(bars, data.keys())
    if legend==False:
        return bars


import matplotlib.pyplot as plt
import pandas as pd
import seaborn as sns
import numpy as np

# Put the path to your data files here
file_paths = [
    '/dls/i23/data/2024/cm37273-1/processing/tihana/thaum_1/csv_files/thaum_1_I_and_r_merge.csv'
]

# Read and concatenate all datasets, adding a 'set_id' to distinguish them
all_data = []
methods = ['method:acsh:', 'method:sh:', 'method:ac:']

for i, file_path in enumerate(file_paths, start=1):
    df = pd.read_csv(file_path, names=['energy', 'method', 'I_value', 'r_value'], skiprows=0, sep=('  '))
    #df['set_id'] = f"Set {i}"  # Adding a set identifier
    all_data.append(df)

# Concatenating all the dataframes
combined_data = pd.concat(all_data)
# Melting the combined DataFrame
#melted_combined_data = combined_data#.melt(id_vars=['set_id', 'method'], value_name='value')#var_name='method', value_name='value')
#filtered_combined_data = melted_combined_data#.dropna(subset=['value'])

print(combined_data)

ac = combined_data[combined_data['method']==':ac:']
acsh = combined_data[combined_data['method']==':acsh:']
sh = combined_data[combined_data['method']==':sh:']

# ac = filtered_combined_data[filtered_combined_data['method'].str.contains(':ac:')]
# acsh = filtered_combined_data[filtered_combined_data['method'].str.contains('acsh')]
# sh = filtered_combined_data[filtered_combined_data['method'].str.contains(':sh:')]

sns.set_style("whitegrid")#darkgrid
sns.set(palette='Set1', style='ticks')
ax = pd.DataFrame({'ac':list(ac['I_value']), 'acsh':list(acsh['I_value']), 'sh':list(sh['I_value'])}, index=list(ac['energy']))
ax = ax.plot(kind='bar', legend=True, figsize=(12,8))
ax.legend(loc='lower center')
plt.title(f'Thaumatin processed in P41212: I/σ')
plt.xlabel('Energy (keV)')
plt.ylabel('Intensity over σ')
plt.xticks(rotation=0)
for container in ax.containers:
    ax.bar_label(container)
lim = ax.get_ylim()
ax.set_ylim(lim[0], lim[1]*1.05)
plt.tight_layout()
plt.savefig('/dls/i23/data/2024/cm37273-1/processing/tihana/thaum_1/plots/I_over_sigma.png')
plt.savefig('/home/icf19162/CP5-Thesis/plots/exp0/thaum_Isig.png', dpi=300)
plt.show()


sns.set_style("whitegrid")
sns.set(palette='Set1', style='ticks')
ax2 = pd.DataFrame({'ac':list(ac['r_value']), 'acsh':list(acsh['r_value']), 'sh':list(sh['r_value'])}, index=list(ac['energy']))
ax2 = ax2.plot(kind='bar', legend=True, figsize=(12,8))
ax2.legend(loc='lower center')
#plt.grid()
plt.title(f'Thaumatin processed in P41212: R-merge factor')
plt.xlabel('Energy (keV)')
plt.ylabel('Overall R-merge')
plt.xticks(rotation=0)
for container in ax2.containers:
    ax2.bar_label(container)
lim = ax2.get_ylim()
ax2.set_ylim(lim[0], lim[1]*1.05)
plt.tight_layout()
plt.savefig('/dls/i23/data/2024/cm37273-1/processing/tihana/thaum_1/plots/rmerges.png')
plt.savefig('/home/icf19162/CP5-Thesis/plots/exp0/thaum_rmerges.png', dpi=300)
plt.show()



n = 4

fig, (ax1, ax2) = plt.subplots(1,2,figsize=(6.5,3))
data1 = {'AC':ac['I_value'].to_list(), 'ACSH':acsh['I_value'].to_list(), 'SH':sh['I_value'].to_list()}
bars = bar_plot(ax1, data1, legend=False, colors=[cc.glasbey[1], cc.glasbey[0], cc.glasbey[2]])
#ax1.legend(bars, data1.keys(), ncols=3, fontsize='x-small', bbox_to_anchor=(1.6,1.15))
ax1.yaxis.set_minor_locator(mticker.AutoMinorLocator())
ax1.set_xticks([0,1,2,3])
ax1.set_xticklabels(list(ac['energy'])[i] for i in range(n))
ax1.set_ylabel("Intensity / $\sigma$")
ax1.set_xlabel("Energy (keV)")

data2 = {'AC':ac['r_value'].to_list(), 'ACSH':acsh['r_value'].to_list(), 'SH':sh['r_value'].to_list()}
bars2 = bar_plot(ax2, data2, legend=False)
#ax1.legend(bars, data1.keys(), ncols=3, fontsize='x-small', bbox_to_anchor=(1,1.15))
ax2.yaxis.set_minor_locator(mticker.AutoMinorLocator())
ax2.set_xticks([0,1,2,3])
ax2.set_xticklabels(list(ac['energy'])[i] for i in range(n))
ax2.set_ylabel("$R$-Merge")
ax2.set_xlabel("Energy (keV)")
ax2.yaxis.set_ticks_position('right')
ax2.yaxis.set_label_position('right')
fig.legend(bars, data1.keys(), ncols=3, fontsize='x-small', loc='upper center')
fig.tight_layout()
plt.savefig('/home/icf19162/CP5-Thesis/plots/exp0/thaum_stats.pdf')
ax1.grid(axis='y', which='both')
ax2.grid(axis='y', which='both')
fig.tight_layout()
plt.savefig('/home/icf19162/CP5-Thesis/plots/exp0/thaum_stats_grid.pdf')



